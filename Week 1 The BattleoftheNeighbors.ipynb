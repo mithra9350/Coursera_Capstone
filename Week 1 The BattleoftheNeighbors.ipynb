{
    "cells": [
        {
            "cell_type": "markdown",
            "metadata": {
                "collapsed": true
            },
            "source": "\n## Introduction\n#### Background\nMultifamily is becoming an established sector of the UK property market. From less than 1% in 2014, it now accounts for 7% of total UK real estate investment. 2020 will likely see new entrants to the market, and current investors will continue to build their portfolios. As a result, we expect total multifamily\u00a0investment\u00a0in\u00a02020\u00a0to\u00a0significantly\u00a0exceed\u00a02019. (\"From the UK Real Estate Outlook 2020\")\n\n#### Business Problem\nIn this scenario, it is urgent to adopt machine learning tools in order to assist homebuyers clientele in London to make wise and effective decisions. As a result, the business problem we are currently posing is: how could we provide support to homebuyers clientele in to purchase a suitable real estate in London in this uncertain economic and financial scenario?\n\nTo solve this business problem, we are going to cluster London neighborhoods in order to recommend venues and the current average price of real estate where homebuyers can make a real estate investment. We will recommend profitable venues according to amenities and essential facilities surrounding such venues i.e. elementary schools, high schools, hospitals & grocery stores.\n\n## Data\nData on London properties and the relative price paid data were extracted from the HM Land Registry (http://landregistry.data.gov.uk/). The following fields comprise the address data included in Price Paid Data: Postcode; PAON Primary Addressable Object Name. Typically the house number or name; SAON Secondary Addressable Object Name. If there is a sub-building, for example, the building is divided into flats, there will be a SAON; Street; Locality; Town/City; District; County.\n\nTo explore and target recommended locations across different venues according to the presence of amenities and essential facilities, we will access data through FourSquare API interface and arrange them as a dataframe for visualization. By merging data on London properties and the relative price paid data from the HM Land Registry and data on amenities and essential facilities surrounding such properties from FourSquare API interface, we will be able to recommend profitable real estate investments.\n\n## Methodology\n\nThe Methodology section will describe the main components of our data analysis, modelling and prediction system. The Methodology section comprises of four stages:\n\n1. Collection and Inspection Data\n2. Exploration and Understanding of the Data\n3. Preparation and preprocessing of the Data\n4. Modeling of the Data"
        },
        {
            "cell_type": "code",
            "execution_count": null,
            "metadata": {},
            "outputs": [],
            "source": ""
        }
    ],
    "metadata": {
        "kernelspec": {
            "display_name": "Python 3.7",
            "language": "python",
            "name": "python3"
        },
        "language_info": {
            "codemirror_mode": {
                "name": "ipython",
                "version": 3
            },
            "file_extension": ".py",
            "mimetype": "text/x-python",
            "name": "python",
            "nbconvert_exporter": "python",
            "pygments_lexer": "ipython3",
            "version": "3.7.9"
        }
    },
    "nbformat": 4,
    "nbformat_minor": 1
}