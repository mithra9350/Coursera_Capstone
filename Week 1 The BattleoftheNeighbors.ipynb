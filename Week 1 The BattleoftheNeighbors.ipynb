{
    "cells": [
        {
            "cell_type": "markdown",
            "metadata": {
                "collapsed": true
            },
            "source": "\n## Introduction\nNew York City was home to nearly 8.5 million people in 2018, accounting for over 40% of the population of New York State and a slightly lower percentage of the New York metropolitan area, home to approximately 23.6 million. It is the largest city in the United States. Its population is projected to grow ever further over the next decade. New restaurants will therefore have to be opened to cater for the growing population.\n\nThis project explores the best locations for restaurants throughout the city of New York. Any business, whether its opening a new restaurant or a new mall, will have to decide on a lot of serious factors. In particular, the location of the restaurant is one of the most important factors that will affect whether it will be a success or a failure. So our project will attempt to answer the questions \u201cWhere should the investor open a Restaurant in New York?\u201d\n\n## Data\n\nIn order to answer the above questions, data on New York City neighborhoods, boroughs, latitude, longitude, restaurants, and restaurant ratings and tips are required.\n\nNew York City data containing the neighborhoods and boroughs, latitudes, and longitudes will be obtained from the data source: https://cocl.us/new_york_dataset\n\nAll data related to locations and quality of restaurants will be obtained from the FourSquare API.\n## Methodology\n\n\u2022 Data will be collected from https://cocl.us/new_york_dataset and cleaned and processed into a pandas dataframe.\n\n\u2022 The FourSquare api will then be used to locate all venues and then filtered by restaurants. Ratings, tips, and likes by users will be counted and added to the dataframe.\n\n\u2022 Data will be sorted based on rankings.\n\n\u2022 Finally, the data be will be outputed visually using the folium library in python.\n## Problem Statement\n\nIn what Neighborhood and/or borough and/or location(s) should an investor/entrepreneur open a restaurant to have the highest probability of being successful?"
        },
        {
            "cell_type": "code",
            "execution_count": null,
            "metadata": {},
            "outputs": [],
            "source": ""
        }
    ],
    "metadata": {
        "kernelspec": {
            "display_name": "Python 3.7",
            "language": "python",
            "name": "python3"
        },
        "language_info": {
            "codemirror_mode": {
                "name": "ipython",
                "version": 3
            },
            "file_extension": ".py",
            "mimetype": "text/x-python",
            "name": "python",
            "nbconvert_exporter": "python",
            "pygments_lexer": "ipython3",
            "version": "3.7.9"
        }
    },
    "nbformat": 4,
    "nbformat_minor": 1
}